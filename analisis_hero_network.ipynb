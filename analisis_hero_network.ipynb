{
 "cells": [
  {
   "cell_type": "markdown",
   "metadata": {},
   "source": [
    "## Analisis mediante Grafos del dataset \"Marvel social Network\"\n",
    "\n",
    "En este notebook se analiza la co-ocurrencia de los heroes de Marvel en los comics. Cada fila describe una instacia en que *hero1* (columna 1) aparece en el mismo comic que *hero2* (columna 2)"
   ]
  },
  {
   "cell_type": "code",
   "execution_count": null,
   "metadata": {
    "_kg_hide-input": true,
    "papermill": {
     "duration": 1.361564,
     "end_time": "2020-10-24T12:28:05.699482",
     "exception": false,
     "start_time": "2020-10-24T12:28:04.337918",
     "status": "completed"
    },
    "tags": []
   },
   "outputs": [],
   "source": [
    "import pandas as pd\n",
    "import numpy as np \n",
    "import matplotlib.pyplot as plt\n",
    "import networkx as nx\n",
    "from IPython.display import display\n",
    "from PIL import Image\n",
    "from tqdm import tqdm\n",
    "import chart_studio.plotly\n",
    "import plotly.graph_objs as go\n",
    "from chart_studio.plotly import plot, iplot\n",
    "import igraph as ig"
   ]
  },
  {
   "cell_type": "code",
   "execution_count": null,
   "metadata": {
    "_cell_guid": "b1076dfc-b9ad-4769-8c92-a6c4dae69d19",
    "_kg_hide-input": true,
    "_kg_hide-output": true,
    "_uuid": "8f2839f25d086af736a60e9eeb907d3b93b6e0e5",
    "papermill": {
     "duration": 0.468198,
     "end_time": "2020-10-24T12:28:06.247837",
     "exception": false,
     "start_time": "2020-10-24T12:28:05.779639",
     "status": "completed"
    },
    "tags": []
   },
   "outputs": [],
   "source": [
    "edges = pd.read_csv('./data/edges.csv') \n",
    "hero_network = pd.read_csv('./data/hero-network.csv') \n",
    "nodes = pd.read_csv('./data/nodes.csv') \n",
    "#print(hero_network.head())"
   ]
  },
  {
   "cell_type": "code",
   "execution_count": null,
   "metadata": {},
   "outputs": [],
   "source": [
    "hero_graph = nx.from_pandas_edgelist(hero_network, \n",
    "                            source='hero1',\n",
    "                            target='hero2',\n",
    "                            )\n",
    "#print(nx.info(hero_graph))"
   ]
  },
  {
   "cell_type": "markdown",
   "metadata": {},
   "source": [
    "**Dada la data, el grafo obtenido tiene un total de 6426 nodos (*nodes*) y 167219 vertices (*edges*)**"
   ]
  },
  {
   "cell_type": "code",
   "execution_count": null,
   "metadata": {},
   "outputs": [],
   "source": [
    "## Graph of total data network\n",
    "nx.draw_networkx(hero_graph)"
   ]
  },
  {
   "cell_type": "markdown",
   "metadata": {},
   "source": [
    "![alt text](Figure_1.png \"Graph Obtained\")"
   ]
  },
  {
   "cell_type": "markdown",
   "metadata": {},
   "source": [
    "**Ahora se medirá la importancia (grado de centralidad) de los nodos en la red mediante la observación de la cantidad de vecinos que tiene.**"
   ]
  },
  {
   "cell_type": "code",
   "execution_count": null,
   "metadata": {},
   "outputs": [],
   "source": [
    "## Calculating the degree centrality\n",
    "degree_centrality_heros = nx.degree_centrality(hero_graph)\n",
    "\n",
    "## Sorting the dictionaries according to their degree centrality and storing the top 10\n",
    "sorted_degree_centrality_heros = sorted(degree_centrality_heros.items(),  key=lambda x: -x[1])\n",
    "print(sorted_degree_centrality_heros[0:10])\n"
   ]
  },
  {
   "cell_type": "code",
   "execution_count": null,
   "metadata": {},
   "outputs": [],
   "source": [
    "## Numbers of Nodes\n",
    "node_numbers = hero_graph.number_of_nodes()\n",
    "## List of Edge\n",
    "edge_list = hero_graph.number_of_edges()\n",
    "## Graph objects\n",
    "edges_name = [edge for edge in hero_graph.edges()] # List of Edges Names\n",
    "\n",
    "nodes_renamed_by_numbers = nx.convert_node_labels_to_integers(hero_graph) #covert and maping all Nodes into Numbers\n",
    "edges_renamed_by_numbers = [edge for edge in nodes_renamed_by_numbers.edges()] # edges from the enumerated nodes\n",
    "\n",
    "## Graph based on edges renamed by numbers\n",
    "graph_numbered = ig.Graph(edges_renamed_by_numbers, directed = False)\n",
    "\n",
    "## Geolocalization\n",
    "layout = graph_numbered.layout('kk',dim = 3)  #3D Localization\n",
    "\n",
    "## x,y,z Position of nodes\n",
    "X_nodes=[layout[i][0] for i in range(node_numbers)]# x-coordinates of enumated nodes\n",
    "Y_nodes=[layout[i][1] for i in range(node_numbers)]# y-coordinates\n",
    "Z_nodes=[layout[i][2] for i in range(node_numbers)]# z-coordinates\n",
    "\n",
    "X_edges=[]\n",
    "Y_edges=[]\n",
    "Z_edges=[]\n",
    "\n",
    "## Grouping Coordinates\n",
    "for edge in edges_renamed_by_numbers:\n",
    "    X_edges+=[layout[edge[0]][0],layout[edge[1]][0], None]# x-coordinates of edge ends\n",
    "    Y_edges+=[layout[edge[0]][1],layout[edge[1]][1], None]\n",
    "    Z_edges+=[layout[edge[0]][2],layout[edge[1]][2], None]\n",
    "    \n",
    "## Nodes Name \n",
    "labels = []\n",
    "group = []\n",
    "\n",
    "for i in range(len(edges_name)):\n",
    "    value = edges_name[i][0]\n",
    "    labels.append(value)\n",
    "    \n",
    "for i in range(len(edges_renamed_by_numbers)):\n",
    "    value = edges_renamed_by_numbers[i][0]\n",
    "    group.append(value)\n",
    "    \n",
    "group =[]\n",
    "group.extend(np.repeat(1,2000))\n",
    "group.extend(np.repeat(2,2000))\n",
    "group.extend(np.repeat(3,3000))\n",
    "group.extend(np.repeat(4,1000))\n",
    "group.extend(np.repeat(5,2000))\n",
    "\n",
    "trace1=go.Scatter3d(x=X_edges,y=Y_edges,z=Z_edges,mode='lines',\n",
    "                    line=dict(color='rgb(125,125,125)', width=1),hoverinfo='none')\n",
    "\n",
    "trace2=go.Scatter3d(x=X_nodes,y=Y_nodes,z=Z_nodes,mode='markers',name='SuperHeroe',\n",
    "                    marker=dict(symbol='circle',size=4,color=group,colorscale='Viridis',line=dict(color='rgb(50,50,50)', width=0.5)),\n",
    "                    text=labels,hoverinfo='text')\n",
    "\n",
    "axis=dict(showbackground=False,showline=False,zeroline=False,\n",
    "          showgrid=False,showticklabels=False,title='')\n",
    "    \n",
    "\n"
   ]
  },
  {
   "cell_type": "code",
   "execution_count": null,
   "metadata": {},
   "outputs": [],
   "source": [
    "# layout = go.Layout(\n",
    "#          title=\"Graph Hero Network Marvel\",\n",
    "#     autosize=True,\n",
    "#          width=1000,\n",
    "#          height=1000,\n",
    "#          showlegend=False,\n",
    "#          scene=dict(\n",
    "#              xaxis=dict(axis),\n",
    "#              yaxis=dict(axis),\n",
    "#              zaxis=dict(axis),\n",
    "#         ),\n",
    "#      margin=dict(\n",
    "#         t=100\n",
    "#     ),\n",
    "#     hovermode='closest',\n",
    "#     annotations=[\n",
    "#            dict(\n",
    "#            showarrow=False,\n",
    "#             text=\"Graph Marvel Network\",\n",
    "#             xref='paper',\n",
    "#             yref='paper',\n",
    "#             x=0,\n",
    "#             y=0.1,\n",
    "#             xanchor='left',\n",
    "#             yanchor='bottom',\n",
    "#             font=dict(\n",
    "#             size=14\n",
    "#             )\n",
    "#             )\n",
    "#         ],    )\n",
    "\n",
    "# data=[trace1, trace2]\n",
    "# fig=go.Figure(data=data, layout=layout)\n",
    "# #fig.show()"
   ]
  },
  {
   "cell_type": "markdown",
   "metadata": {},
   "source": [
    "## Conclusiones\n",
    "\n",
    " - Se obtuvo una cantidad total de  6426 nodos y 167219\n",
    " - Los  personajes con mas concurrencia en los comics son:\n",
    "     1. Capitán América\n",
    "     2. Spiderman/Peter Parker\n",
    "     3. Iron Man/Tony Stark\n",
    "     4. Thing/ Benjamin J. GR\n",
    "     5. Mr. Fantastico/Reed R.\n",
    "     6. Wolverine/Logan\n",
    "     7. Human Torch/Jhonny S.\n",
    "     8. Scarlet Witch/Wanda\n",
    "     9. Thor/ Dr. Donal Blake\n",
    "     10. Beast/Henry P.\n",
    " - Aunque nodos no son vecinos entre sí, la mayoria de los nodos se alcanzan desde cualquier nodo origen a través de un numero relativamente corto de saltos entre ellos, lo que ocasiona que el grafo obtenido tenga comportamiento tipo \"pequeño mundo\"."
   ]
  }
 ],
 "metadata": {
  "kernelspec": {
   "display_name": "Python 3",
   "language": "python",
   "name": "python3"
  },
  "language_info": {
   "codemirror_mode": {
    "name": "ipython",
    "version": 3
   },
   "file_extension": ".py",
   "mimetype": "text/x-python",
   "name": "python",
   "nbconvert_exporter": "python",
   "pygments_lexer": "ipython3",
   "version": "3.8.5"
  }
 },
 "nbformat": 4,
 "nbformat_minor": 4
}
